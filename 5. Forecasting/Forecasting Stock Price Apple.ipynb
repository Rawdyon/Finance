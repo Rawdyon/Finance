{
 "cells": [
  {
   "cell_type": "code",
   "execution_count": 5,
   "id": "114af338",
   "metadata": {},
   "outputs": [],
   "source": [
    "import numpy as np\n",
    "np.random.seed(4)\n",
    "import matplotlib.pyplot as plt\n",
    "import pandas as pd\n",
    "\n",
    "from sklearn.preprocessing import MinMaxScaler\n",
    "from keras.models import Sequential\n",
    "from keras.layers import Dense, LSTM\n",
    "\n",
    "import yfinance as yf"
   ]
  },
  {
   "cell_type": "code",
   "execution_count": 6,
   "id": "033a2239",
   "metadata": {},
   "outputs": [],
   "source": [
    "#\n",
    "# Funciones auxiliares\n",
    "#\n",
    "def graficar_predicciones(real, prediccion):\n",
    "    plt.plot(real[0:len(prediccion)],color='red', label='Valor real de la acción')\n",
    "    plt.plot(prediccion, color='blue', label='Predicción de la acción')\n",
    "    plt.ylim(1.1 * np.min(prediccion)/2, 1.1 * np.max(prediccion))\n",
    "    plt.xlabel('Tiempo')\n",
    "    plt.ylabel('Valor de la acción')\n",
    "    plt.legend()\n",
    "    plt.show()"
   ]
  },
  {
   "cell_type": "code",
   "execution_count": 18,
   "id": "a3d6759f",
   "metadata": {},
   "outputs": [
    {
     "name": "stdout",
     "output_type": "stream",
     "text": [
      "[*********************100%***********************]  1 of 1 completed\n"
     ]
    },
    {
     "data": {
      "text/html": [
       "<div>\n",
       "<style scoped>\n",
       "    .dataframe tbody tr th:only-of-type {\n",
       "        vertical-align: middle;\n",
       "    }\n",
       "\n",
       "    .dataframe tbody tr th {\n",
       "        vertical-align: top;\n",
       "    }\n",
       "\n",
       "    .dataframe thead th {\n",
       "        text-align: right;\n",
       "    }\n",
       "</style>\n",
       "<table border=\"1\" class=\"dataframe\">\n",
       "  <thead>\n",
       "    <tr style=\"text-align: right;\">\n",
       "      <th></th>\n",
       "      <th>Open</th>\n",
       "      <th>High</th>\n",
       "      <th>Low</th>\n",
       "      <th>Close</th>\n",
       "      <th>Adj Close</th>\n",
       "      <th>Volume</th>\n",
       "    </tr>\n",
       "    <tr>\n",
       "      <th>Date</th>\n",
       "      <th></th>\n",
       "      <th></th>\n",
       "      <th></th>\n",
       "      <th></th>\n",
       "      <th></th>\n",
       "      <th></th>\n",
       "    </tr>\n",
       "  </thead>\n",
       "  <tbody>\n",
       "    <tr>\n",
       "      <th>2021-06-28</th>\n",
       "      <td>427.170013</td>\n",
       "      <td>427.649994</td>\n",
       "      <td>425.890015</td>\n",
       "      <td>427.470001</td>\n",
       "      <td>414.705414</td>\n",
       "      <td>53159600</td>\n",
       "    </tr>\n",
       "    <tr>\n",
       "      <th>2021-06-29</th>\n",
       "      <td>427.880005</td>\n",
       "      <td>428.559998</td>\n",
       "      <td>427.130005</td>\n",
       "      <td>427.700012</td>\n",
       "      <td>414.928589</td>\n",
       "      <td>35970500</td>\n",
       "    </tr>\n",
       "    <tr>\n",
       "      <th>2021-06-30</th>\n",
       "      <td>427.209991</td>\n",
       "      <td>428.779999</td>\n",
       "      <td>427.179993</td>\n",
       "      <td>428.059998</td>\n",
       "      <td>415.277771</td>\n",
       "      <td>64827900</td>\n",
       "    </tr>\n",
       "    <tr>\n",
       "      <th>2021-07-01</th>\n",
       "      <td>428.869995</td>\n",
       "      <td>430.600006</td>\n",
       "      <td>428.799988</td>\n",
       "      <td>430.429993</td>\n",
       "      <td>417.577026</td>\n",
       "      <td>53441000</td>\n",
       "    </tr>\n",
       "    <tr>\n",
       "      <th>2021-07-02</th>\n",
       "      <td>431.670013</td>\n",
       "      <td>434.100006</td>\n",
       "      <td>430.519989</td>\n",
       "      <td>433.720001</td>\n",
       "      <td>420.768799</td>\n",
       "      <td>57697700</td>\n",
       "    </tr>\n",
       "    <tr>\n",
       "      <th>...</th>\n",
       "      <td>...</td>\n",
       "      <td>...</td>\n",
       "      <td>...</td>\n",
       "      <td>...</td>\n",
       "      <td>...</td>\n",
       "      <td>...</td>\n",
       "    </tr>\n",
       "    <tr>\n",
       "      <th>2023-06-21</th>\n",
       "      <td>436.160004</td>\n",
       "      <td>436.989990</td>\n",
       "      <td>434.329987</td>\n",
       "      <td>434.940002</td>\n",
       "      <td>434.940002</td>\n",
       "      <td>76982300</td>\n",
       "    </tr>\n",
       "    <tr>\n",
       "      <th>2023-06-22</th>\n",
       "      <td>433.950012</td>\n",
       "      <td>436.619995</td>\n",
       "      <td>433.600006</td>\n",
       "      <td>436.510010</td>\n",
       "      <td>436.510010</td>\n",
       "      <td>70637200</td>\n",
       "    </tr>\n",
       "    <tr>\n",
       "      <th>2023-06-23</th>\n",
       "      <td>432.929993</td>\n",
       "      <td>435.059998</td>\n",
       "      <td>432.470001</td>\n",
       "      <td>433.209991</td>\n",
       "      <td>433.209991</td>\n",
       "      <td>92028700</td>\n",
       "    </tr>\n",
       "    <tr>\n",
       "      <th>2023-06-26</th>\n",
       "      <td>432.619995</td>\n",
       "      <td>434.609985</td>\n",
       "      <td>431.190002</td>\n",
       "      <td>431.440002</td>\n",
       "      <td>431.440002</td>\n",
       "      <td>72823600</td>\n",
       "    </tr>\n",
       "    <tr>\n",
       "      <th>2023-06-27</th>\n",
       "      <td>432.350006</td>\n",
       "      <td>436.809998</td>\n",
       "      <td>431.880005</td>\n",
       "      <td>436.170013</td>\n",
       "      <td>436.170013</td>\n",
       "      <td>72813700</td>\n",
       "    </tr>\n",
       "  </tbody>\n",
       "</table>\n",
       "<p>503 rows × 6 columns</p>\n",
       "</div>"
      ],
      "text/plain": [
       "                  Open        High         Low       Close   Adj Close  \\\n",
       "Date                                                                     \n",
       "2021-06-28  427.170013  427.649994  425.890015  427.470001  414.705414   \n",
       "2021-06-29  427.880005  428.559998  427.130005  427.700012  414.928589   \n",
       "2021-06-30  427.209991  428.779999  427.179993  428.059998  415.277771   \n",
       "2021-07-01  428.869995  430.600006  428.799988  430.429993  417.577026   \n",
       "2021-07-02  431.670013  434.100006  430.519989  433.720001  420.768799   \n",
       "...                ...         ...         ...         ...         ...   \n",
       "2023-06-21  436.160004  436.989990  434.329987  434.940002  434.940002   \n",
       "2023-06-22  433.950012  436.619995  433.600006  436.510010  436.510010   \n",
       "2023-06-23  432.929993  435.059998  432.470001  433.209991  433.209991   \n",
       "2023-06-26  432.619995  434.609985  431.190002  431.440002  431.440002   \n",
       "2023-06-27  432.350006  436.809998  431.880005  436.170013  436.170013   \n",
       "\n",
       "              Volume  \n",
       "Date                  \n",
       "2021-06-28  53159600  \n",
       "2021-06-29  35970500  \n",
       "2021-06-30  64827900  \n",
       "2021-07-01  53441000  \n",
       "2021-07-02  57697700  \n",
       "...              ...  \n",
       "2023-06-21  76982300  \n",
       "2023-06-22  70637200  \n",
       "2023-06-23  92028700  \n",
       "2023-06-26  72823600  \n",
       "2023-06-27  72813700  \n",
       "\n",
       "[503 rows x 6 columns]"
      ]
     },
     "execution_count": 18,
     "metadata": {},
     "output_type": "execute_result"
    }
   ],
   "source": [
    "#\n",
    "# Lectura de los datos\n",
    "#\n",
    "from pandas_datareader import data\n",
    "\n",
    "import yfinance as yf\n",
    "yf.pdr_override() \n",
    "\n",
    "symbol = 'SPY'\n",
    "data_source='google'\n",
    "start_date = '2021-06-28'\n",
    "end_date = '2023-06-28'\n",
    "dataset = data.get_data_yahoo(symbol, start_date, end_date)\n",
    "\n",
    "#dataset = pd.read_csv('AAPL_2006-01-01_to_2018-01-01.csv', index_col='Date', parse_dates=['Date'])\n",
    "\n",
    "\n",
    "dataset.head()\n",
    "dataset"
   ]
  },
  {
   "cell_type": "code",
   "execution_count": 19,
   "id": "594634fe",
   "metadata": {},
   "outputs": [
    {
     "name": "stdout",
     "output_type": "stream",
     "text": [
      "503\n",
      "82\n"
     ]
    },
    {
     "data": {
      "image/png": "[encoded data removed]",
      "text/plain": [
       "<Figure size 640x480 with 1 Axes>"
      ]
     },
     "metadata": {},
     "output_type": "display_data"
    }
   ],
   "source": [
    "#\n",
    "# Sets de entrenamiento y validación \n",
    "# La LSTM se entrenará con datos de 2016 hacia atrás. La validación se hará con datos de 2017 en adelante.\n",
    "# En ambos casos sólo se usará el valor más alto de la acción para cada día\n",
    "#\n",
    "set_entrenamiento = dataset[:'2023-02'].iloc[:,3:4]\n",
    "set_validacion = dataset['2023-03':].iloc[:,3:4]\n",
    "\n",
    "print(len(set_entrenamiento)+len(set_validacion))\n",
    "print(len(set_validacion))\n",
    "set_entrenamiento['Close'].plot(legend=True)\n",
    "set_validacion['Close'].plot(legend=True)\n",
    "plt.legend(['Entrenamiento (2017-2022)', 'Validación (2023)'])\n",
    "plt.show()\n"
   ]
  },
  {
   "cell_type": "code",
   "execution_count": 20,
   "id": "fa4ae77b",
   "metadata": {},
   "outputs": [],
   "source": [
    "# Normalización del set de entrenamiento\n",
    "sc = MinMaxScaler(feature_range=(0,1))\n",
    "set_entrenamiento_escalado = sc.fit_transform(set_entrenamiento)"
   ]
  },
  {
   "cell_type": "code",
   "execution_count": 21,
   "id": "b76c1fa7",
   "metadata": {},
   "outputs": [
    {
     "name": "stdout",
     "output_type": "stream",
     "text": [
      "[[0.58530753 0.58720609 0.5901775  ... 0.7002889  0.63953789 0.63615362]\n",
      " [0.58720609 0.5901775  0.60973998 ... 0.63953789 0.63615362 0.67106886]\n",
      " [0.5901775  0.60973998 0.63689647 ... 0.63615362 0.67106886 0.71498142]\n",
      " ...\n",
      " [0.32480403 0.31919121 0.42195623 ... 0.35105242 0.3465127  0.36401162]\n",
      " [0.31919121 0.42195623 0.41948007 ... 0.3465127  0.36401162 0.32868353]\n",
      " [0.42195623 0.41948007 0.41560057 ... 0.36401162 0.32868353 0.33982679]]\n"
     ]
    }
   ],
   "source": [
    "# La red LSTM tendrá como entrada \"time_step\" datos consecutivos, y como salida 1 dato (la predicción a\n",
    "# partir de esos \"time_step\" datos). Se conformará de esta forma el set de entrenamiento\n",
    "time_step = 60 #150\n",
    "X_train = []\n",
    "Y_train = []\n",
    "m = len(set_entrenamiento_escalado)\n",
    "#print(set_entrenamiento_escalado)\n",
    "#print(type(set_entrenamiento_escalado))\n",
    "for i in range(time_step,m):\n",
    "    # X: bloques de \"time_step\" datos: 0-time_step, 1-time_step+1, 2-time_step+2, etc\n",
    "    X_train.append(set_entrenamiento_escalado[i-time_step:i,0])\n",
    "    #print(set_entrenamiento_escalado[i-time_step:i,0])\n",
    "    # Y: el siguiente dato\n",
    "    Y_train.append(set_entrenamiento_escalado[i,0])\n",
    "\n",
    "X_train, Y_train = np.array(X_train), np.array(Y_train)\n",
    "print(X_train)"
   ]
  },
  {
   "cell_type": "code",
   "execution_count": null,
   "id": "08edf940",
   "metadata": {},
   "outputs": [],
   "source": [
    "\n"
   ]
  },
  {
   "cell_type": "code",
   "execution_count": 22,
   "id": "73bda033",
   "metadata": {},
   "outputs": [],
   "source": [
    "# Reshape X_train para que se ajuste al modelo en Keras\n",
    "X_train = np.reshape(X_train, (X_train.shape[0], X_train.shape[1], 1))\n",
    "#X_train"
   ]
  },
  {
   "cell_type": "code",
   "execution_count": 23,
   "id": "6853cd02",
   "metadata": {},
   "outputs": [
    {
     "name": "stdout",
     "output_type": "stream",
     "text": [
      "Epoch 1/20\n",
      "12/12 [==============================] - 4s 54ms/step - loss: 0.0710\n",
      "Epoch 2/20\n",
      "12/12 [==============================] - 0s 30ms/step - loss: 0.0127\n",
      "Epoch 3/20\n",
      "12/12 [==============================] - 0s 28ms/step - loss: 0.0122\n",
      "Epoch 4/20\n",
      "12/12 [==============================] - 1s 52ms/step - loss: 0.0097\n",
      "Epoch 5/20\n",
      "12/12 [==============================] - 1s 57ms/step - loss: 0.0112\n",
      "Epoch 6/20\n",
      "12/12 [==============================] - 0s 37ms/step - loss: 0.0085\n",
      "Epoch 7/20\n",
      "12/12 [==============================] - 0s 32ms/step - loss: 0.0084\n",
      "Epoch 8/20\n",
      "12/12 [==============================] - 1s 51ms/step - loss: 0.0081\n",
      "Epoch 9/20\n",
      "12/12 [==============================] - 0s 37ms/step - loss: 0.0068\n",
      "Epoch 10/20\n",
      "12/12 [==============================] - 0s 39ms/step - loss: 0.0076\n",
      "Epoch 11/20\n",
      "12/12 [==============================] - 0s 34ms/step - loss: 0.0061\n",
      "Epoch 12/20\n",
      "12/12 [==============================] - 0s 30ms/step - loss: 0.0064\n",
      "Epoch 13/20\n",
      "12/12 [==============================] - 0s 32ms/step - loss: 0.0057\n",
      "Epoch 14/20\n",
      "12/12 [==============================] - 1s 57ms/step - loss: 0.0062\n",
      "Epoch 15/20\n",
      "12/12 [==============================] - 0s 35ms/step - loss: 0.0057\n",
      "Epoch 16/20\n",
      "12/12 [==============================] - 1s 38ms/step - loss: 0.0053\n",
      "Epoch 17/20\n",
      "12/12 [==============================] - 0s 31ms/step - loss: 0.0053\n",
      "Epoch 18/20\n",
      "12/12 [==============================] - 0s 30ms/step - loss: 0.0049\n",
      "Epoch 19/20\n",
      "12/12 [==============================] - 0s 31ms/step - loss: 0.0052\n",
      "Epoch 20/20\n",
      "12/12 [==============================] - 0s 30ms/step - loss: 0.0047\n"
     ]
    },
    {
     "data": {
      "text/plain": [
       "<keras.callbacks.History at 0x1d1c02318b0>"
      ]
     },
     "execution_count": 23,
     "metadata": {},
     "output_type": "execute_result"
    }
   ],
   "source": [
    "#\n",
    "# Red LSTM\n",
    "dim_entrada = (X_train.shape[1],1)\n",
    "dim_salida = 1\n",
    "na = 50\n",
    "modelo = Sequential()\n",
    "modelo.add(LSTM(units=na, input_shape=dim_entrada))\n",
    "modelo.add(Dense(units=dim_salida))\n",
    "modelo.compile(optimizer='rmsprop', loss='mse')\n",
    "modelo.fit(X_train,Y_train,epochs=20,batch_size=32)"
   ]
  },
  {
   "cell_type": "code",
   "execution_count": 24,
   "id": "4d681398",
   "metadata": {},
   "outputs": [
    {
     "name": "stdout",
     "output_type": "stream",
     "text": [
      "82\n",
      "22\n"
     ]
    },
    {
     "name": "stderr",
     "output_type": "stream",
     "text": [
      "C:\\Users\\User\\anaconda3\\lib\\site-packages\\sklearn\\base.py:450: UserWarning: X does not have valid feature names, but MinMaxScaler was fitted with feature names\n",
      "  warnings.warn(\n"
     ]
    },
    {
     "name": "stdout",
     "output_type": "stream",
     "text": [
      "1/1 [==============================] - 1s 769ms/step\n",
      "22\n"
     ]
    }
   ],
   "source": [
    "# Validación (predicción del valor de las acciones)\n",
    "x_test = set_validacion.values\n",
    "x_test = sc.transform(x_test)\n",
    "print(len(x_test))\n",
    "X_test = []\n",
    "for i in range(time_step,len(x_test)):\n",
    "    X_test.append(x_test[i-time_step:i,0])\n",
    "X_test = np.array(X_test)\n",
    "print(len(X_test))\n",
    "X_test = np.reshape(X_test, (X_test.shape[0],X_test.shape[1],1))\n",
    "prediccion = modelo.predict(X_test)\n",
    "prediccion = sc.inverse_transform(prediccion)\n",
    "print(len(prediccion))\n",
    "#prediccion = [prediccion[i][0] for i in range( len(prediccion)) ]\n",
    "#print( type(prediccion) )"
   ]
  },
  {
   "cell_type": "markdown",
   "id": "0eaab699",
   "metadata": {},
   "source": [
    "\n",
    "\n",
    "set_entrenamiento['Close'].plot(legend=True)\n",
    "\n",
    "set_validacion_g = pd.DataFrame()\n",
    "set_validacion_g['validacion'] = dataset['2023':].iloc[:,3:4]\n",
    "set_validacion_g.index = dataset['2023':].index\n",
    "\n",
    "\n",
    "set_validacion_p_g = pd.DataFrame()\n",
    "set_validacion_p_g['prediccion'] = [ prediccion[i][0] for i in range(len(prediccion)) ]\n",
    "set_validacion_p_g.index = dataset['2023':].index\n",
    "\n",
    "set_validacion_p_g['prediccion'].plot(legend=True)\n",
    "set_validacion_g['validacion'].plot(legend=True)\n",
    "print(set_validacion_g)\n",
    "#graficar_predicciones(set_validacion.values,prediccion)"
   ]
  },
  {
   "cell_type": "code",
   "execution_count": 25,
   "id": "b11ee2f2",
   "metadata": {},
   "outputs": [
    {
     "data": {
      "image/png": "[encoded data removed]",
      "text/plain": [
       "<Figure size 640x480 with 1 Axes>"
      ]
     },
     "metadata": {},
     "output_type": "display_data"
    },
    {
     "name": "stdout",
     "output_type": "stream",
     "text": [
      "1/1 [==============================] - 0s 40ms/step\n"
     ]
    }
   ],
   "source": [
    "graficar_predicciones(set_validacion.values,prediccion)\n",
    "prediccion = modelo.predict(X_test)"
   ]
  },
  {
   "cell_type": "code",
   "execution_count": 26,
   "id": "04909877",
   "metadata": {},
   "outputs": [
    {
     "name": "stdout",
     "output_type": "stream",
     "text": [
      "82\n",
      "22\n",
      "[[[0.31514647]\n",
      "  [0.34048702]\n",
      "  [0.39314905]\n",
      "  ...\n",
      "  [0.51366087]\n",
      "  [0.47486588]\n",
      "  [0.45010319]]\n",
      "\n",
      " [[0.34048702]\n",
      "  [0.39314905]\n",
      "  [0.39546022]\n",
      "  ...\n",
      "  [0.47486588]\n",
      "  [0.45010319]\n",
      "  [0.47948823]]\n",
      "\n",
      " [[0.39314905]\n",
      "  [0.39546022]\n",
      "  [0.34428389]\n",
      "  ...\n",
      "  [0.45010319]\n",
      "  [0.47948823]\n",
      "  [0.52381341]]\n",
      "\n",
      " ...\n",
      "\n",
      " [[0.32224524]\n",
      "  [0.36970706]\n",
      "  [0.38910456]\n",
      "  ...\n",
      "  [0.66545604]\n",
      "  [0.64696664]\n",
      "  [0.65992585]]\n",
      "\n",
      " [[0.36970706]\n",
      "  [0.38910456]\n",
      "  [0.43607115]\n",
      "  ...\n",
      "  [0.64696664]\n",
      "  [0.65992585]\n",
      "  [0.63268673]]\n",
      "\n",
      " [[0.38910456]\n",
      "  [0.43607115]\n",
      "  [0.44894773]\n",
      "  ...\n",
      "  [0.65992585]\n",
      "  [0.63268673]\n",
      "  [0.61807684]]]\n",
      "1/1 [==============================] - 0s 39ms/step\n",
      "22\n"
     ]
    },
    {
     "name": "stderr",
     "output_type": "stream",
     "text": [
      "C:\\Users\\User\\anaconda3\\lib\\site-packages\\sklearn\\base.py:450: UserWarning: X does not have valid feature names, but MinMaxScaler was fitted with feature names\n",
      "  warnings.warn(\n"
     ]
    }
   ],
   "source": [
    "# Validación (predicción del valor de las acciones)\n",
    "x_test = set_validacion.values\n",
    "x_test = sc.transform(x_test)\n",
    "print(len(x_test))\n",
    "X_test = []\n",
    "for i in range(time_step,len(x_test)):\n",
    "    X_test.append(x_test[i-time_step:i,0])\n",
    "X_test = np.array(X_test)\n",
    "print(len(X_test))\n",
    "X_test = np.reshape(X_test, (X_test.shape[0],X_test.shape[1],1))\n",
    "print(X_test)\n",
    "prediccion = modelo.predict(X_test)\n",
    "prediccion = sc.inverse_transform(prediccion)\n",
    "print(len(prediccion))\n",
    "#prediccion = [prediccion[i][0] for i in range( len(prediccion)) ]\n",
    "#print( type(prediccion) )"
   ]
  },
  {
   "cell_type": "code",
   "execution_count": 27,
   "id": "76ce10d1",
   "metadata": {},
   "outputs": [],
   "source": [
    "#\n",
    "# Funciones auxiliares\n",
    "#\n",
    "def graficar_predicciones(real, prediccion):\n",
    "    plt.plot(real[0:len(prediccion)],color='red', label='Valor real de la acción')\n",
    "    plt.plot(prediccion, color='blue', label='Predicción de la acción')\n",
    "    plt.ylim(1.1 * np.min(prediccion)/2, 1.1 * np.max(prediccion))\n",
    "    plt.xlabel('Tiempo')\n",
    "    plt.ylabel('Valor de la acción')\n",
    "    plt.legend()\n",
    "    plt.show()"
   ]
  },
  {
   "cell_type": "code",
   "execution_count": null,
   "id": "a564f854",
   "metadata": {},
   "outputs": [],
   "source": []
  },
  {
   "cell_type": "code",
   "execution_count": null,
   "id": "e9c84cba",
   "metadata": {},
   "outputs": [],
   "source": []
  }
 ],
 "metadata": {
  "kernelspec": {
   "display_name": "Python 3 (ipykernel)",
   "language": "python",
   "name": "python3"
  },
  "language_info": {
   "codemirror_mode": {
    "name": "ipython",
    "version": 3
   },
   "file_extension": ".py",
   "mimetype": "text/x-python",
   "name": "python",
   "nbconvert_exporter": "python",
   "pygments_lexer": "ipython3",
   "version": "3.9.13"
  }
 },
 "nbformat": 4,
 "nbformat_minor": 5
}
