{
 "cells": [
  {
   "cell_type": "markdown",
   "id": "0d13fc23",
   "metadata": {
    "id": "0d13fc23"
   },
   "source": [
    "###### Var paramétrico y Var con suavizamiento"
   ]
  },
  {
   "cell_type": "code",
   "execution_count": 2,
   "id": "341f2b5a",
   "metadata": {
    "colab": {
     "base_uri": "https://localhost:8080/"
    },
    "executionInfo": {
     "elapsed": 9726,
     "status": "ok",
     "timestamp": 1686416102721,
     "user": {
      "displayName": "Eder Francisco Cruz",
      "userId": "16792185155404694158"
     },
     "user_tz": 360
    },
    "id": "341f2b5a",
    "outputId": "a2f421bc-8fbb-4f5e-9bab-57f98b064326"
   },
   "outputs": [
    {
     "name": "stdout",
     "output_type": "stream",
     "text": [
      "Requirement already satisfied: pandas_ta in c:\\users\\user\\anaconda3\\lib\\site-packages (0.3.14b0)\n",
      "Requirement already satisfied: pandas in c:\\users\\user\\anaconda3\\lib\\site-packages (from pandas_ta) (1.4.4)\n",
      "Requirement already satisfied: pytz>=2020.1 in c:\\users\\user\\anaconda3\\lib\\site-packages (from pandas->pandas_ta) (2023.3)\n",
      "Requirement already satisfied: python-dateutil>=2.8.1 in c:\\users\\user\\anaconda3\\lib\\site-packages (from pandas->pandas_ta) (2.8.2)\n",
      "Requirement already satisfied: numpy>=1.18.5 in c:\\users\\user\\anaconda3\\lib\\site-packages (from pandas->pandas_ta) (1.21.5)\n",
      "Requirement already satisfied: six>=1.5 in c:\\users\\user\\anaconda3\\lib\\site-packages (from python-dateutil>=2.8.1->pandas->pandas_ta) (1.16.0)\n"
     ]
    }
   ],
   "source": [
    "!pip install pandas_ta\n",
    "import pandas_ta as ta\n",
    "from pandas_datareader import data\n",
    "import pandas as pd\n",
    "import numpy as np\n",
    "import yfinance as yf\n",
    "import statistics\n",
    "import math\n",
    "\n",
    "import matplotlib.pyplot as plt\n",
    "import plotly.subplots\n",
    "import plotly\n",
    "from plotly.subplots import make_subplots\n",
    "import plotly.graph_objs as go\n",
    "import numpy as np"
   ]
  },
  {
   "cell_type": "markdown",
   "id": "a0b10ddd",
   "metadata": {
    "id": "a0b10ddd"
   },
   "source": [
    "## Obteniendo datos y calculando desviación estándar\n"
   ]
  },
  {
   "cell_type": "code",
   "execution_count": 82,
   "id": "ffe3e612",
   "metadata": {
    "colab": {
     "base_uri": "https://localhost:8080/"
    },
    "executionInfo": {
     "elapsed": 2518,
     "status": "ok",
     "timestamp": 1686416105232,
     "user": {
      "displayName": "Eder Francisco Cruz",
      "userId": "16792185155404694158"
     },
     "user_tz": 360
    },
    "id": "ffe3e612",
    "outputId": "a3f1acd0-928d-4805-d08b-275339439173"
   },
   "outputs": [
    {
     "name": "stdout",
     "output_type": "stream",
     "text": [
      "[*********************100%***********************]  1 of 1 completed\n",
      "1257\n",
      "[*********************100%***********************]  1 of 1 completed\n",
      "1257\n",
      "[*********************100%***********************]  1 of 1 completed\n",
      "1257\n",
      "[*********************100%***********************]  1 of 1 completed\n",
      "1257\n",
      "            TSLA Close  NFLX Close  AAPL Close   SPY Close\n",
      "Date                                                      \n",
      "2018-07-02   22.337999  398.179993   46.794998  271.859985\n",
      "2018-07-03   20.724001  390.519989   45.980000  270.899994\n",
      "2018-07-05   20.610666  398.390015   46.349998  273.109985\n",
      "2018-07-06   20.593332  408.250000   46.992500  275.420013\n",
      "2018-07-09   21.233999  418.970001   47.645000  277.899994\n",
      "...                ...         ...         ...         ...\n",
      "2023-06-23  256.600006  424.019989  186.679993  433.209991\n",
      "2023-06-26  241.050003  415.940002  185.270004  431.440002\n",
      "2023-06-27  250.210007  417.079987  188.059998  436.170013\n",
      "2023-06-28  256.239990  429.839996  189.250000  436.390015\n",
      "2023-06-29  257.500000  428.239990  189.589996  438.109985\n",
      "\n",
      "[1257 rows x 4 columns]\n"
     ]
    }
   ],
   "source": [
    "yf.pdr_override() \n",
    "\n",
    "symbol = ['TSLA','NFLX','AAPL','SPY']\n",
    "data_source='google'\n",
    "start_date = '2018-06-30'\n",
    "end_date = '2023-06-30'\n",
    "\n",
    "\n",
    "desv = pd.DataFrame()\n",
    "desv.index = ['VAR paramétrico']#,'VAR suavizado']\n",
    "\n",
    "\n",
    "df = pd.DataFrame()\n",
    "\n",
    "#rend = pd.DataFrame()\n",
    "\n",
    "for element in symbol:\n",
    "    #Obtenemos los datos\n",
    "    dfa = pd.DataFrame()\n",
    "    dfa = data.get_data_yahoo(element, start_date, end_date)\n",
    "    \n",
    "    #print(dfa)\n",
    "    \n",
    "    l = len(dfa.index)\n",
    "    print(l)\n",
    "    r = ( dfa['Close'].iloc[1: ].values / dfa['Close'].iloc[:l-1 ].values ) - 1\n",
    "    #rend = ( dfa['Close'].iloc[1: ].values / dfa['Close'].iloc[:l-1 ].values ) - 1\n",
    "    m = statistics.mean(r)\n",
    "    x = [ (r[i] -m )**2  for i in range(l -1)]\n",
    "    \n",
    "    desv[element] = [math.sqrt( sum(x) / (l-1)) ]\n",
    "    #df = pd.concat([df,dfa])\n",
    "    df[element+' Close'] = dfa['Close']\n",
    "    \n",
    "    #print('stdev: ',statistics.stdev(r))\n",
    "    #print('pstdev: ',statistics.pstdev(r))\n",
    "    #print(df)\n",
    "\n",
    "print(df)\n",
    "#print(conv)\n",
    "\n"
   ]
  },
  {
   "cell_type": "code",
   "execution_count": 83,
   "id": "2f2ab4e7",
   "metadata": {
    "colab": {
     "base_uri": "https://localhost:8080/"
    },
    "executionInfo": {
     "elapsed": 102,
     "status": "ok",
     "timestamp": 1686416105234,
     "user": {
      "displayName": "Eder Francisco Cruz",
      "userId": "16792185155404694158"
     },
     "user_tz": 360
    },
    "id": "2f2ab4e7",
    "outputId": "ab62b900-6702-481a-a24f-829f5b3cdbae"
   },
   "outputs": [
    {
     "name": "stdout",
     "output_type": "stream",
     "text": [
      "                    TSLA     NFLX      AAPL      SPY\n",
      "VAR paramétrico  0.04192  0.02981  0.020995  0.01354\n"
     ]
    }
   ],
   "source": [
    "print(desv)"
   ]
  },
  {
   "cell_type": "markdown",
   "id": "qdToqbiSUIRa",
   "metadata": {
    "id": "qdToqbiSUIRa"
   },
   "source": [
    "### Calcularemos la desviación estándar anual en los últimos dos años"
   ]
  },
  {
   "cell_type": "code",
   "execution_count": 90,
   "id": "LX8nRo5rUHLi",
   "metadata": {
    "colab": {
     "base_uri": "https://localhost:8080/"
    },
    "executionInfo": {
     "elapsed": 95,
     "status": "ok",
     "timestamp": 1686416105234,
     "user": {
      "displayName": "Eder Francisco Cruz",
      "userId": "16792185155404694158"
     },
     "user_tz": 360
    },
    "id": "LX8nRo5rUHLi",
    "outputId": "b1c4b577-76ca-4b56-c386-2fd28615160c"
   },
   "outputs": [
    {
     "name": "stdout",
     "output_type": "stream",
     "text": [
      "[*********************100%***********************]  1 of 1 completed\n",
      "[*********************100%***********************]  1 of 1 completed\n",
      "[*********************100%***********************]  1 of 1 completed\n",
      "[*********************100%***********************]  1 of 1 completed\n",
      "      TSLA     NFLX      AAPL      SPY\n",
      "0  0.04192  0.02981  0.020995  0.01354\n"
     ]
    }
   ],
   "source": [
    "yf.pdr_override() \n",
    "desv = pd.DataFrame()\n",
    "desv.index = ['VAR paramétrico']\n",
    "\n",
    "l = len(df.index)\n",
    "df = pd.DataFrame()\n",
    "DESV = pd.DataFrame()\n",
    "RD = pd.DataFrame()\n",
    "\n",
    "for element in symbol:\n",
    "    #Obtenemos los datos\n",
    "    dfa = pd.DataFrame()\n",
    "    dfa = data.get_data_yahoo(element, start_date, end_date)\n",
    "    \n",
    "    \n",
    "    #print(len(dfa.index))\n",
    "    r = (  dfa['Close'].iloc[1: l ].values / dfa['Close'].iloc[0: l-1 ].values ) - 1\n",
    "    #print(len(r))\n",
    "    #print(dfa)\n",
    "    RD[element] = [0 ] + list(r)\n",
    "    DESV[element] =  [statistics.pstdev( r[0: l] ) ]\n",
    "    #print(DESV)\n",
    "    df[element+' Close'] = dfa['Close']\n",
    "    \n",
    "    #print(len([0 for i in range(1) ] + r))  \n",
    "\n",
    "#print(df)\n",
    "#print(RD)\n",
    "#print(type(r))\n",
    "print(DESV)\n",
    "    \n",
    "    #print('stdev: ',statistics.stdev(r))\n",
    "    #print('pstdev: ',statistics.pstdev(r))\n",
    "    #print(df)\n",
    "\n",
    "#print(df)\n",
    "#print(conv)\n",
    "\n"
   ]
  },
  {
   "cell_type": "code",
   "execution_count": 91,
   "id": "851505d8",
   "metadata": {},
   "outputs": [
    {
     "data": {
      "text/html": [
       "<div>\n",
       "<style scoped>\n",
       "    .dataframe tbody tr th:only-of-type {\n",
       "        vertical-align: middle;\n",
       "    }\n",
       "\n",
       "    .dataframe tbody tr th {\n",
       "        vertical-align: top;\n",
       "    }\n",
       "\n",
       "    .dataframe thead th {\n",
       "        text-align: right;\n",
       "    }\n",
       "</style>\n",
       "<table border=\"1\" class=\"dataframe\">\n",
       "  <thead>\n",
       "    <tr style=\"text-align: right;\">\n",
       "      <th></th>\n",
       "      <th>TSLA</th>\n",
       "      <th>NFLX</th>\n",
       "      <th>AAPL</th>\n",
       "      <th>SPY</th>\n",
       "    </tr>\n",
       "  </thead>\n",
       "  <tbody>\n",
       "    <tr>\n",
       "      <th>0</th>\n",
       "      <td>0.000000</td>\n",
       "      <td>0.000000</td>\n",
       "      <td>0.000000</td>\n",
       "      <td>0.000000</td>\n",
       "    </tr>\n",
       "    <tr>\n",
       "      <th>1</th>\n",
       "      <td>-0.072253</td>\n",
       "      <td>-0.019238</td>\n",
       "      <td>-0.017416</td>\n",
       "      <td>-0.003531</td>\n",
       "    </tr>\n",
       "    <tr>\n",
       "      <th>2</th>\n",
       "      <td>-0.005469</td>\n",
       "      <td>0.020153</td>\n",
       "      <td>0.008047</td>\n",
       "      <td>0.008158</td>\n",
       "    </tr>\n",
       "    <tr>\n",
       "      <th>3</th>\n",
       "      <td>-0.000841</td>\n",
       "      <td>0.024750</td>\n",
       "      <td>0.013862</td>\n",
       "      <td>0.008458</td>\n",
       "    </tr>\n",
       "    <tr>\n",
       "      <th>4</th>\n",
       "      <td>0.031110</td>\n",
       "      <td>0.026258</td>\n",
       "      <td>0.013885</td>\n",
       "      <td>0.009004</td>\n",
       "    </tr>\n",
       "    <tr>\n",
       "      <th>...</th>\n",
       "      <td>...</td>\n",
       "      <td>...</td>\n",
       "      <td>...</td>\n",
       "      <td>...</td>\n",
       "    </tr>\n",
       "    <tr>\n",
       "      <th>1252</th>\n",
       "      <td>-0.030271</td>\n",
       "      <td>0.003645</td>\n",
       "      <td>-0.001711</td>\n",
       "      <td>-0.007560</td>\n",
       "    </tr>\n",
       "    <tr>\n",
       "      <th>1253</th>\n",
       "      <td>-0.060600</td>\n",
       "      <td>-0.019056</td>\n",
       "      <td>-0.007553</td>\n",
       "      <td>-0.004086</td>\n",
       "    </tr>\n",
       "    <tr>\n",
       "      <th>1254</th>\n",
       "      <td>0.038000</td>\n",
       "      <td>0.002741</td>\n",
       "      <td>0.015059</td>\n",
       "      <td>0.010963</td>\n",
       "    </tr>\n",
       "    <tr>\n",
       "      <th>1255</th>\n",
       "      <td>0.024100</td>\n",
       "      <td>0.030594</td>\n",
       "      <td>0.006328</td>\n",
       "      <td>0.000504</td>\n",
       "    </tr>\n",
       "    <tr>\n",
       "      <th>1256</th>\n",
       "      <td>0.004917</td>\n",
       "      <td>-0.003722</td>\n",
       "      <td>0.001797</td>\n",
       "      <td>0.003941</td>\n",
       "    </tr>\n",
       "  </tbody>\n",
       "</table>\n",
       "<p>1257 rows × 4 columns</p>\n",
       "</div>"
      ],
      "text/plain": [
       "          TSLA      NFLX      AAPL       SPY\n",
       "0     0.000000  0.000000  0.000000  0.000000\n",
       "1    -0.072253 -0.019238 -0.017416 -0.003531\n",
       "2    -0.005469  0.020153  0.008047  0.008158\n",
       "3    -0.000841  0.024750  0.013862  0.008458\n",
       "4     0.031110  0.026258  0.013885  0.009004\n",
       "...        ...       ...       ...       ...\n",
       "1252 -0.030271  0.003645 -0.001711 -0.007560\n",
       "1253 -0.060600 -0.019056 -0.007553 -0.004086\n",
       "1254  0.038000  0.002741  0.015059  0.010963\n",
       "1255  0.024100  0.030594  0.006328  0.000504\n",
       "1256  0.004917 -0.003722  0.001797  0.003941\n",
       "\n",
       "[1257 rows x 4 columns]"
      ]
     },
     "execution_count": 91,
     "metadata": {},
     "output_type": "execute_result"
    }
   ],
   "source": [
    "RD"
   ]
  },
  {
   "cell_type": "code",
   "execution_count": null,
   "id": "31b17fa2",
   "metadata": {},
   "outputs": [],
   "source": []
  },
  {
   "cell_type": "code",
   "execution_count": 92,
   "id": "J49HIGsBBQmR",
   "metadata": {
    "executionInfo": {
     "elapsed": 90,
     "status": "ok",
     "timestamp": 1686416105235,
     "user": {
      "displayName": "Eder Francisco Cruz",
      "userId": "16792185155404694158"
     },
     "user_tz": 360
    },
    "id": "J49HIGsBBQmR"
   },
   "outputs": [
    {
     "data": {
      "text/html": [
       "<div>\n",
       "<style scoped>\n",
       "    .dataframe tbody tr th:only-of-type {\n",
       "        vertical-align: middle;\n",
       "    }\n",
       "\n",
       "    .dataframe tbody tr th {\n",
       "        vertical-align: top;\n",
       "    }\n",
       "\n",
       "    .dataframe thead th {\n",
       "        text-align: right;\n",
       "    }\n",
       "</style>\n",
       "<table border=\"1\" class=\"dataframe\">\n",
       "  <thead>\n",
       "    <tr style=\"text-align: right;\">\n",
       "      <th></th>\n",
       "      <th>TSLA</th>\n",
       "      <th>NFLX</th>\n",
       "      <th>AAPL</th>\n",
       "      <th>SPY</th>\n",
       "    </tr>\n",
       "  </thead>\n",
       "  <tbody>\n",
       "    <tr>\n",
       "      <th>TSLA</th>\n",
       "      <td>0.001757</td>\n",
       "      <td>0.000481</td>\n",
       "      <td>0.000416</td>\n",
       "      <td>0.000272</td>\n",
       "    </tr>\n",
       "    <tr>\n",
       "      <th>NFLX</th>\n",
       "      <td>0.000481</td>\n",
       "      <td>0.000889</td>\n",
       "      <td>0.000304</td>\n",
       "      <td>0.000204</td>\n",
       "    </tr>\n",
       "    <tr>\n",
       "      <th>AAPL</th>\n",
       "      <td>0.000416</td>\n",
       "      <td>0.000304</td>\n",
       "      <td>0.000441</td>\n",
       "      <td>0.000229</td>\n",
       "    </tr>\n",
       "    <tr>\n",
       "      <th>SPY</th>\n",
       "      <td>0.000272</td>\n",
       "      <td>0.000204</td>\n",
       "      <td>0.000229</td>\n",
       "      <td>0.000183</td>\n",
       "    </tr>\n",
       "  </tbody>\n",
       "</table>\n",
       "</div>"
      ],
      "text/plain": [
       "          TSLA      NFLX      AAPL       SPY\n",
       "TSLA  0.001757  0.000481  0.000416  0.000272\n",
       "NFLX  0.000481  0.000889  0.000304  0.000204\n",
       "AAPL  0.000416  0.000304  0.000441  0.000229\n",
       "SPY   0.000272  0.000204  0.000229  0.000183"
      ]
     },
     "execution_count": 92,
     "metadata": {},
     "output_type": "execute_result"
    }
   ],
   "source": [
    "cov_mat = RD.cov()\n",
    "cov_mat"
   ]
  },
  {
   "cell_type": "markdown",
   "id": "f8e43127",
   "metadata": {},
   "source": [
    "#### De aquí extraemos la covarianza del mercadocon respecto a las acciones"
   ]
  },
  {
   "cell_type": "code",
   "execution_count": 93,
   "id": "66cc9327",
   "metadata": {},
   "outputs": [
    {
     "data": {
      "text/html": [
       "<div>\n",
       "<style scoped>\n",
       "    .dataframe tbody tr th:only-of-type {\n",
       "        vertical-align: middle;\n",
       "    }\n",
       "\n",
       "    .dataframe tbody tr th {\n",
       "        vertical-align: top;\n",
       "    }\n",
       "\n",
       "    .dataframe thead th {\n",
       "        text-align: right;\n",
       "    }\n",
       "</style>\n",
       "<table border=\"1\" class=\"dataframe\">\n",
       "  <thead>\n",
       "    <tr style=\"text-align: right;\">\n",
       "      <th></th>\n",
       "      <th>TSLA</th>\n",
       "      <th>NFLX</th>\n",
       "      <th>AAPL</th>\n",
       "      <th>SPY</th>\n",
       "    </tr>\n",
       "  </thead>\n",
       "  <tbody>\n",
       "    <tr>\n",
       "      <th>covarianza</th>\n",
       "      <td>0.000272</td>\n",
       "      <td>0.000204</td>\n",
       "      <td>0.000229</td>\n",
       "      <td>0.000183</td>\n",
       "    </tr>\n",
       "  </tbody>\n",
       "</table>\n",
       "</div>"
      ],
      "text/plain": [
       "                TSLA      NFLX      AAPL       SPY\n",
       "covarianza  0.000272  0.000204  0.000229  0.000183"
      ]
     },
     "execution_count": 93,
     "metadata": {},
     "output_type": "execute_result"
    }
   ],
   "source": [
    "cov = pd.DataFrame()\n",
    "\n",
    "for element in symbol:\n",
    "    cov[element] =  cov_mat[ element].iloc[3:4]\n",
    "    #cov[element].append(  cov[element].values[0] / DESV[symbol[3]]   )\n",
    "cov.index = ['covarianza']#,'beta']\n",
    "\n",
    "#covM_TLSA = cov_mat['TSLA Close'].iloc[3:4]\n",
    "#covM_NFLX = cov_mat['NFLX Close'].iloc[3:4]\n",
    "#covM_AAPL = cov_mat['AAPL Close'].iloc[3:4]\n",
    "cov"
   ]
  },
  {
   "cell_type": "markdown",
   "id": "d44265db",
   "metadata": {},
   "source": [
    "#### BETA"
   ]
  },
  {
   "cell_type": "code",
   "execution_count": 94,
   "id": "f31da19d",
   "metadata": {},
   "outputs": [
    {
     "data": {
      "text/html": [
       "<div>\n",
       "<style scoped>\n",
       "    .dataframe tbody tr th:only-of-type {\n",
       "        vertical-align: middle;\n",
       "    }\n",
       "\n",
       "    .dataframe tbody tr th {\n",
       "        vertical-align: top;\n",
       "    }\n",
       "\n",
       "    .dataframe thead th {\n",
       "        text-align: right;\n",
       "    }\n",
       "</style>\n",
       "<table border=\"1\" class=\"dataframe\">\n",
       "  <thead>\n",
       "    <tr style=\"text-align: right;\">\n",
       "      <th></th>\n",
       "      <th>TSLA</th>\n",
       "      <th>NFLX</th>\n",
       "      <th>AAPL</th>\n",
       "      <th>SPY</th>\n",
       "    </tr>\n",
       "  </thead>\n",
       "  <tbody>\n",
       "    <tr>\n",
       "      <th>Beta</th>\n",
       "      <td>0.020125</td>\n",
       "      <td>0.015104</td>\n",
       "      <td>0.016927</td>\n",
       "      <td>0.01354</td>\n",
       "    </tr>\n",
       "  </tbody>\n",
       "</table>\n",
       "</div>"
      ],
      "text/plain": [
       "          TSLA      NFLX      AAPL      SPY\n",
       "Beta  0.020125  0.015104  0.016927  0.01354"
      ]
     },
     "execution_count": 94,
     "metadata": {},
     "output_type": "execute_result"
    }
   ],
   "source": [
    "Beta = pd.DataFrame()\n",
    "\n",
    "for element in symbol:\n",
    "    #print(cov[element].values[0])\n",
    "    #print(DESV[symbol[3]])\n",
    "    Beta[element] = cov[element].values[0] / DESV[symbol[3]]\n",
    "\n",
    "Beta.index = ['Beta']\n",
    "Beta"
   ]
  },
  {
   "cell_type": "code",
   "execution_count": 25,
   "id": "AzByountVCdM",
   "metadata": {
    "executionInfo": {
     "elapsed": 93,
     "status": "ok",
     "timestamp": 1686416105241,
     "user": {
      "displayName": "Eder Francisco Cruz",
      "userId": "16792185155404694158"
     },
     "user_tz": 360
    },
    "id": "AzByountVCdM"
   },
   "outputs": [],
   "source": [
    "w1 = [25.0,22.5,22.5,15.0,15.0]\n",
    "\n"
   ]
  },
  {
   "cell_type": "markdown",
   "id": "dde02c0a",
   "metadata": {
    "id": "dde02c0a"
   },
   "source": [
    "Calculamos la matriz de correlación de nuestros 3 activos"
   ]
  },
  {
   "cell_type": "code",
   "execution_count": 31,
   "id": "XHCef1V0K7hV",
   "metadata": {
    "colab": {
     "base_uri": "https://localhost:8080/"
    },
    "executionInfo": {
     "elapsed": 2860,
     "status": "ok",
     "timestamp": 1686416111079,
     "user": {
      "displayName": "Eder Francisco Cruz",
      "userId": "16792185155404694158"
     },
     "user_tz": 360
    },
    "id": "XHCef1V0K7hV",
    "outputId": "1168fc6a-3a67-4a71-a6e3-0a8a61a93c40"
   },
   "outputs": [
    {
     "name": "stdout",
     "output_type": "stream",
     "text": [
      "[*********************100%***********************]  1 of 1 completed\n",
      "[*********************100%***********************]  1 of 1 completed\n",
      "[*********************100%***********************]  1 of 1 completed\n",
      "[*********************100%***********************]  1 of 1 completed\n",
      "       TSLA      NFLX      AAPL       SPY\n",
      "0  0.038025  0.030093  0.018591  0.012258\n"
     ]
    }
   ],
   "source": [
    "dv = pd.DataFrame()\n",
    "for element in symbol:\n",
    "    dfa = pd.DataFrame()\n",
    "    dfa = data.get_data_yahoo(element, start_date, end_date)\n",
    "\n",
    "    r = ( dfa['Close'].iloc[1: 251 ].values / dfa['Close'].iloc[0: 250 ].values ) - 1\n",
    "\n",
    "    dv[element] = [ statistics.pstdev( r[ 0 : 252] )  ]\n",
    "    #print(DESV)\n",
    "print(dv)"
   ]
  },
  {
   "cell_type": "code",
   "execution_count": 33,
   "id": "4f9fb161",
   "metadata": {
    "colab": {
     "base_uri": "https://localhost:8080/"
    },
    "executionInfo": {
     "elapsed": 26,
     "status": "ok",
     "timestamp": 1686416111081,
     "user": {
      "displayName": "Eder Francisco Cruz",
      "userId": "16792185155404694158"
     },
     "user_tz": 360
    },
    "id": "4f9fb161",
    "outputId": "32c4bd6f-0df2-4284-8bfd-ef873e0dd328"
   },
   "outputs": [
    {
     "name": "stdout",
     "output_type": "stream",
     "text": [
      "            TSLA Close  NFLX Close  AAPL Close  SPY Close\n",
      "TSLA Close    1.000000   -0.424995    0.417223   0.140725\n",
      "NFLX Close   -0.424995    1.000000    0.442208   0.628681\n",
      "AAPL Close    0.417223    0.442208    1.000000   0.814971\n",
      "SPY Close     0.140725    0.628681    0.814971   1.000000\n"
     ]
    }
   ],
   "source": [
    "#print(desv)\n",
    "p_cor = df.corr(method=\"pearson\")\n",
    "print(p_cor)"
   ]
  },
  {
   "cell_type": "markdown",
   "id": "f9d29d59",
   "metadata": {
    "id": "f9d29d59"
   },
   "source": [
    " Rho's por empresa"
   ]
  },
  {
   "cell_type": "code",
   "execution_count": 80,
   "id": "jmG2EmPtHEoU",
   "metadata": {
    "colab": {
     "base_uri": "https://localhost:8080/"
    },
    "executionInfo": {
     "elapsed": 18,
     "status": "ok",
     "timestamp": 1686416111082,
     "user": {
      "displayName": "Eder Francisco Cruz",
      "userId": "16792185155404694158"
     },
     "user_tz": 360
    },
    "id": "jmG2EmPtHEoU",
    "outputId": "88bf81ab-9d2b-4f7a-e773-07073938602c"
   },
   "outputs": [
    {
     "name": "stdout",
     "output_type": "stream",
     "text": [
      "[0.01873135443047329, 0.021310895872679057, 0.026199786694883084, 0.03387548155509902, 0.03839592056589584]\n"
     ]
    }
   ],
   "source": [
    "c = [dv[element][0] for element in symbol]\n",
    "print(c)"
   ]
  },
  {
   "cell_type": "markdown",
   "id": "07d16069",
   "metadata": {
    "id": "07d16069"
   },
   "source": [
    "Calculamos la matriz de varianza-covarianza"
   ]
  },
  {
   "cell_type": "code",
   "execution_count": 81,
   "id": "b881c4bb",
   "metadata": {
    "colab": {
     "base_uri": "https://localhost:8080/"
    },
    "executionInfo": {
     "elapsed": 13,
     "status": "ok",
     "timestamp": 1686416111082,
     "user": {
      "displayName": "Eder Francisco Cruz",
      "userId": "16792185155404694158"
     },
     "user_tz": 360
    },
    "id": "b881c4bb",
    "outputId": "a48544e9-0125-45d0-9a2b-053bc4afcf05"
   },
   "outputs": [
    {
     "name": "stdout",
     "output_type": "stream",
     "text": [
      "       AAPL      GOOG      AMZN      META      TSLA\n",
      "0  0.000351  0.000272 -0.000094 -0.000048  0.000471\n",
      "1  0.000272  0.000454  0.000197  0.000330  0.000628\n",
      "2 -0.000094  0.000197  0.000686  0.000748  0.000320\n",
      "3 -0.000048  0.000330  0.000748  0.001148  0.000278\n",
      "4  0.000471  0.000628  0.000320  0.000278  0.001474\n"
     ]
    }
   ],
   "source": [
    "m_cor = pd.DataFrame()\n",
    "for element in symbol:\n",
    "    m_cor[element] = [ dv[element][0]*c[i]*p_cor[element+' Close'][i] for i in range (len(symbol))]\n",
    "print(m_cor)"
   ]
  },
  {
   "cell_type": "markdown",
   "id": "0d5d5beb",
   "metadata": {
    "id": "0d5d5beb"
   },
   "source": [
    "# Varianza del portafolio\n",
    "\n",
    "Con los calculos realizados, haremos el calculo del VAR para los dos portafolios mencionados "
   ]
  },
  {
   "cell_type": "markdown",
   "id": "b9CPaOLzOYH-",
   "metadata": {
    "id": "b9CPaOLzOYH-"
   },
   "source": [
    "## Portafolio Agresivo"
   ]
  },
  {
   "cell_type": "markdown",
   "id": "KEPaui6kRMw1",
   "metadata": {
    "id": "KEPaui6kRMw1"
   },
   "source": [
    "El VAR a un día para un intervalo de confianza del 95% es de:"
   ]
  },
  {
   "cell_type": "code",
   "execution_count": 82,
   "id": "990d2d62",
   "metadata": {},
   "outputs": [],
   "source": [
    "w1 = [0.25,0.225,0.225,0.150,0.15]\n",
    "w2 = [0.20,0.20,0.20,0.20,0.20]\n",
    "w2 = [0.125,0.125,0.200,0.275,0.275]\n"
   ]
  },
  {
   "cell_type": "code",
   "execution_count": 83,
   "id": "PpAR4QugOXQu",
   "metadata": {
    "colab": {
     "base_uri": "https://localhost:8080/"
    },
    "executionInfo": {
     "elapsed": 369,
     "status": "ok",
     "timestamp": 1686416262236,
     "user": {
      "displayName": "Eder Francisco Cruz",
      "userId": "16792185155404694158"
     },
     "user_tz": 360
    },
    "id": "PpAR4QugOXQu",
    "outputId": "4bbe4246-be93-4a5c-8630-718186df2b0d"
   },
   "outputs": [
    {
     "name": "stdout",
     "output_type": "stream",
     "text": [
      "37139.20207175352\n"
     ]
    }
   ],
   "source": [
    "w = [0.125,0.125,0.200,0.275,0.275] #matriz de pesos\n",
    "sigma_p = m_cor.dot(w).dot(w)\n",
    "Var_p = 1.65*math.sqrt(sigma_p)*1000000\n",
    "print(Var_p)"
   ]
  },
  {
   "cell_type": "markdown",
   "id": "0nvlWhM0O76I",
   "metadata": {
    "id": "0nvlWhM0O76I"
   },
   "source": [
    "Y el VAR a dos años a un intervalo de confianza del 95% es de:"
   ]
  },
  {
   "cell_type": "code",
   "execution_count": 84,
   "id": "9a226d70",
   "metadata": {
    "colab": {
     "base_uri": "https://localhost:8080/"
    },
    "executionInfo": {
     "elapsed": 4,
     "status": "ok",
     "timestamp": 1686416262721,
     "user": {
      "displayName": "Eder Francisco Cruz",
      "userId": "16792185155404694158"
     },
     "user_tz": 360
    },
    "id": "9a226d70",
    "outputId": "162014e1-03e1-4030-a3e2-d49c6bb1812a"
   },
   "outputs": [
    {
     "name": "stdout",
     "output_type": "stream",
     "text": [
      "147391.63885985196\n"
     ]
    }
   ],
   "source": [
    "print(Var_p*math.sqrt(252)*(1/4))"
   ]
  },
  {
   "cell_type": "markdown",
   "id": "a9c9f7c5",
   "metadata": {
    "colab": {
     "base_uri": "https://localhost:8080/"
    },
    "executionInfo": {
     "elapsed": 791,
     "status": "ok",
     "timestamp": 1686416300857,
     "user": {
      "displayName": "Eder Francisco Cruz",
      "userId": "16792185155404694158"
     },
     "user_tz": 360
    },
    "id": "Ar3qJ0z7Plgu",
    "outputId": "b2a25941-c997-433d-c11d-ed2de474c3c4"
   },
   "source": [
    "# Portafolio de riesgo Intermedio"
   ]
  },
  {
   "cell_type": "markdown",
   "id": "0aef7b5a",
   "metadata": {},
   "source": [
    "Y el VAR a un día a un intervalo de confianza del 95% es de:"
   ]
  },
  {
   "cell_type": "code",
   "execution_count": 100,
   "id": "06d88313",
   "metadata": {},
   "outputs": [
    {
     "name": "stdout",
     "output_type": "stream",
     "text": [
      "33527.49223161528\n"
     ]
    }
   ],
   "source": [
    "w =  [0.20,0.20,0.20,0.20,0.20]\n",
    "sigma_p = m_cor.dot(w).dot(w)\n",
    "Var_p = 1.65*math.sqrt(sigma_p)*1000000\n",
    "print(Var_p)"
   ]
  },
  {
   "cell_type": "markdown",
   "id": "752d365e",
   "metadata": {},
   "source": [
    "Y el VAR a tres meses del a un intervalo de confianza del 95% es de:"
   ]
  },
  {
   "cell_type": "code",
   "execution_count": 101,
   "id": "e27aced8",
   "metadata": {},
   "outputs": [
    {
     "name": "stdout",
     "output_type": "stream",
     "text": [
      "133058.109792756\n"
     ]
    }
   ],
   "source": [
    "print(Var_p*math.sqrt(252)*(1/4))"
   ]
  },
  {
   "cell_type": "code",
   "execution_count": null,
   "id": "f22d25bd",
   "metadata": {},
   "outputs": [],
   "source": []
  },
  {
   "cell_type": "markdown",
   "id": "ea22ab5c",
   "metadata": {
    "id": "YNjnL_9TRmR4"
   },
   "source": [
    "## Portafolio Conservador"
   ]
  },
  {
   "cell_type": "markdown",
   "id": "c3fe824e",
   "metadata": {
    "id": "4Qy-ft28Q3Xi"
   },
   "source": [
    "Y el VAR a un día a un intervalo de confianza del 95% es de:"
   ]
  },
  {
   "cell_type": "code",
   "execution_count": 92,
   "id": "0e19a0a6",
   "metadata": {
    "colab": {
     "base_uri": "https://localhost:8080/"
    },
    "executionInfo": {
     "elapsed": 894,
     "status": "ok",
     "timestamp": 1686416120017,
     "user": {
      "displayName": "Eder Francisco Cruz",
      "userId": "16792185155404694158"
     },
     "user_tz": 360
    },
    "id": "416c7405",
    "outputId": "fb804e77-135f-4b42-dd1f-ff2fe9461b9b"
   },
   "outputs": [
    {
     "name": "stdout",
     "output_type": "stream",
     "text": [
      "31298.2888725028\n"
     ]
    }
   ],
   "source": [
    "w = [0.25,0.225,0.225,0.15,0.15]\n",
    "sigma_p = m_cor.dot(w).dot(w)\n",
    "Var_p = 1.65*math.sqrt(sigma_p)*1000000\n",
    "print(Var_p)"
   ]
  },
  {
   "cell_type": "markdown",
   "id": "0eb86387",
   "metadata": {
    "id": "3QU91qknQ7qZ"
   },
   "source": [
    "Y el VAR a dos años del a un intervalo de confianza del 95% es de:"
   ]
  },
  {
   "cell_type": "code",
   "execution_count": 93,
   "id": "7dcf3ad1",
   "metadata": {
    "colab": {
     "base_uri": "https://localhost:8080/"
    },
    "executionInfo": {
     "elapsed": 3,
     "status": "ok",
     "timestamp": 1686416120610,
     "user": {
      "displayName": "Eder Francisco Cruz",
      "userId": "16792185155404694158"
     },
     "user_tz": 360
    },
    "id": "EtP7nZAMO-fE",
    "outputId": "4c4ada9c-d5b6-484e-f440-2d3761eb8421",
    "scrolled": true
   },
   "outputs": [
    {
     "name": "stdout",
     "output_type": "stream",
     "text": [
      "124211.23322775385\n"
     ]
    }
   ],
   "source": [
    "print(Var_p*math.sqrt(252)*(1/4))"
   ]
  },
  {
   "cell_type": "code",
   "execution_count": null,
   "id": "d6d342bd",
   "metadata": {},
   "outputs": [],
   "source": []
  }
 ],
 "metadata": {
  "colab": {
   "provenance": []
  },
  "kernelspec": {
   "display_name": "Python 3 (ipykernel)",
   "language": "python",
   "name": "python3"
  },
  "language_info": {
   "codemirror_mode": {
    "name": "ipython",
    "version": 3
   },
   "file_extension": ".py",
   "mimetype": "text/x-python",
   "name": "python",
   "nbconvert_exporter": "python",
   "pygments_lexer": "ipython3",
   "version": "3.9.13"
  }
 },
 "nbformat": 4,
 "nbformat_minor": 5
}
